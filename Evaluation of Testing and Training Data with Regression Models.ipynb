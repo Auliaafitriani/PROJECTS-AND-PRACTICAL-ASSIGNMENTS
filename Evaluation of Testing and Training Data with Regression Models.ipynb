{
 "cells": [
  {
   "cell_type": "markdown",
   "metadata": {},
   "source": [
    "## DATA TRAINING DAN TESTING"
   ]
  },
  {
   "cell_type": "markdown",
   "metadata": {},
   "source": [
    "***Melakukan pemodelan data dengan regresi  untuk memporoleh data dengan dengan proporsi 70:30 (70% untuk data testing)*** "
   ]
  },
  {
   "cell_type": "markdown",
   "metadata": {},
   "source": [
    "### *Aulia Nur Fitriani*\n",
    "### *21083010051*\n",
    "### *Machine Learning I (C)*"
   ]
  },
  {
   "cell_type": "code",
   "execution_count": 2,
   "metadata": {},
   "outputs": [
    {
     "data": {
      "text/plain": [
       "'C:\\\\Users\\\\USER\\\\Documents\\\\machine learning 1'"
      ]
     },
     "execution_count": 2,
     "metadata": {},
     "output_type": "execute_result"
    }
   ],
   "source": [
    "pwd"
   ]
  },
  {
   "cell_type": "code",
   "execution_count": 3,
   "metadata": {},
   "outputs": [],
   "source": [
    "#import library pandas dan numpy untuk analisis data\n",
    "import pandas as pd\n",
    "import numpy as np"
   ]
  },
  {
   "cell_type": "code",
   "execution_count": 4,
   "metadata": {},
   "outputs": [
    {
     "name": "stdout",
     "output_type": "stream",
     "text": [
      "        CRIM    ZN  INDUS  CHAS    NOX     RM   AGE     DIS  RAD    TAX  \\\n",
      "0    0.00632  18.0   2.31     0  0.538  6.575  65.2  4.0900    1  296.0   \n",
      "1    0.02731   0.0   7.07     0  0.469  6.421  78.9  4.9671    2  242.0   \n",
      "2    0.02729   0.0   7.07     0  0.469  7.185  61.1  4.9671    2  242.0   \n",
      "3    0.03237   0.0   2.18     0  0.458  6.998  45.8  6.0622    3  222.0   \n",
      "4    0.06905   0.0   2.18     0  0.458  7.147  54.2  6.0622    3  222.0   \n",
      "..       ...   ...    ...   ...    ...    ...   ...     ...  ...    ...   \n",
      "501  0.06263   0.0  11.93     0  0.573  6.593  69.1  2.4786    1  273.0   \n",
      "502  0.04527   0.0  11.93     0  0.573  6.120  76.7  2.2875    1  273.0   \n",
      "503  0.06076   0.0  11.93     0  0.573  6.976  91.0  2.1675    1  273.0   \n",
      "504  0.10959   0.0  11.93     0  0.573  6.794  89.3  2.3889    1  273.0   \n",
      "505  0.04741   0.0  11.93     0  0.573  6.030  80.8  2.5050    1  273.0   \n",
      "\n",
      "     PTRATIO       B  LSTAT  MEDV  \n",
      "0       15.3  396.90   4.98  24.0  \n",
      "1       17.8  396.90   9.14  21.6  \n",
      "2       17.8  392.83   4.03  34.7  \n",
      "3       18.7  394.63   2.94  33.4  \n",
      "4       18.7  396.90   5.33  36.2  \n",
      "..       ...     ...    ...   ...  \n",
      "501     21.0  391.99   9.67  22.4  \n",
      "502     21.0  396.90   9.08  20.6  \n",
      "503     21.0  396.90   5.64  23.9  \n",
      "504     21.0  393.45   6.48  22.0  \n",
      "505     21.0  396.90   7.88  11.9  \n",
      "\n",
      "[506 rows x 14 columns]\n"
     ]
    }
   ],
   "source": [
    "Nama_Variabel=['CRIM', 'ZN', 'INDUS', 'CHAS', 'NOX', 'RM', 'AGE', 'DIS', 'RAD', 'TAX', 'PTRATIO', 'B', 'LSTAT', 'MEDV']\n",
    "dataset = pd.read_csv('housing.csv', header = None, delim_whitespace=True, names=Nama_Variabel)\n",
    "\n",
    "# Menampilkan Data\n",
    "print(dataset)"
   ]
  },
  {
   "cell_type": "code",
   "execution_count": 5,
   "metadata": {},
   "outputs": [
    {
     "data": {
      "text/html": [
       "<div>\n",
       "<style scoped>\n",
       "    .dataframe tbody tr th:only-of-type {\n",
       "        vertical-align: middle;\n",
       "    }\n",
       "\n",
       "    .dataframe tbody tr th {\n",
       "        vertical-align: top;\n",
       "    }\n",
       "\n",
       "    .dataframe thead th {\n",
       "        text-align: right;\n",
       "    }\n",
       "</style>\n",
       "<table border=\"1\" class=\"dataframe\">\n",
       "  <thead>\n",
       "    <tr style=\"text-align: right;\">\n",
       "      <th></th>\n",
       "      <th>CRIM</th>\n",
       "      <th>ZN</th>\n",
       "      <th>INDUS</th>\n",
       "      <th>CHAS</th>\n",
       "      <th>NOX</th>\n",
       "      <th>RM</th>\n",
       "      <th>AGE</th>\n",
       "      <th>DIS</th>\n",
       "      <th>RAD</th>\n",
       "      <th>TAX</th>\n",
       "      <th>PTRATIO</th>\n",
       "      <th>B</th>\n",
       "      <th>LSTAT</th>\n",
       "      <th>MEDV</th>\n",
       "    </tr>\n",
       "  </thead>\n",
       "  <tbody>\n",
       "    <tr>\n",
       "      <th>0</th>\n",
       "      <td>0.00632</td>\n",
       "      <td>18.0</td>\n",
       "      <td>2.31</td>\n",
       "      <td>0</td>\n",
       "      <td>0.538</td>\n",
       "      <td>6.575</td>\n",
       "      <td>65.2</td>\n",
       "      <td>4.0900</td>\n",
       "      <td>1</td>\n",
       "      <td>296.0</td>\n",
       "      <td>15.3</td>\n",
       "      <td>396.90</td>\n",
       "      <td>4.98</td>\n",
       "      <td>24.0</td>\n",
       "    </tr>\n",
       "    <tr>\n",
       "      <th>1</th>\n",
       "      <td>0.02731</td>\n",
       "      <td>0.0</td>\n",
       "      <td>7.07</td>\n",
       "      <td>0</td>\n",
       "      <td>0.469</td>\n",
       "      <td>6.421</td>\n",
       "      <td>78.9</td>\n",
       "      <td>4.9671</td>\n",
       "      <td>2</td>\n",
       "      <td>242.0</td>\n",
       "      <td>17.8</td>\n",
       "      <td>396.90</td>\n",
       "      <td>9.14</td>\n",
       "      <td>21.6</td>\n",
       "    </tr>\n",
       "    <tr>\n",
       "      <th>2</th>\n",
       "      <td>0.02729</td>\n",
       "      <td>0.0</td>\n",
       "      <td>7.07</td>\n",
       "      <td>0</td>\n",
       "      <td>0.469</td>\n",
       "      <td>7.185</td>\n",
       "      <td>61.1</td>\n",
       "      <td>4.9671</td>\n",
       "      <td>2</td>\n",
       "      <td>242.0</td>\n",
       "      <td>17.8</td>\n",
       "      <td>392.83</td>\n",
       "      <td>4.03</td>\n",
       "      <td>34.7</td>\n",
       "    </tr>\n",
       "    <tr>\n",
       "      <th>3</th>\n",
       "      <td>0.03237</td>\n",
       "      <td>0.0</td>\n",
       "      <td>2.18</td>\n",
       "      <td>0</td>\n",
       "      <td>0.458</td>\n",
       "      <td>6.998</td>\n",
       "      <td>45.8</td>\n",
       "      <td>6.0622</td>\n",
       "      <td>3</td>\n",
       "      <td>222.0</td>\n",
       "      <td>18.7</td>\n",
       "      <td>394.63</td>\n",
       "      <td>2.94</td>\n",
       "      <td>33.4</td>\n",
       "    </tr>\n",
       "    <tr>\n",
       "      <th>4</th>\n",
       "      <td>0.06905</td>\n",
       "      <td>0.0</td>\n",
       "      <td>2.18</td>\n",
       "      <td>0</td>\n",
       "      <td>0.458</td>\n",
       "      <td>7.147</td>\n",
       "      <td>54.2</td>\n",
       "      <td>6.0622</td>\n",
       "      <td>3</td>\n",
       "      <td>222.0</td>\n",
       "      <td>18.7</td>\n",
       "      <td>396.90</td>\n",
       "      <td>5.33</td>\n",
       "      <td>36.2</td>\n",
       "    </tr>\n",
       "  </tbody>\n",
       "</table>\n",
       "</div>"
      ],
      "text/plain": [
       "      CRIM    ZN  INDUS  CHAS    NOX     RM   AGE     DIS  RAD    TAX  \\\n",
       "0  0.00632  18.0   2.31     0  0.538  6.575  65.2  4.0900    1  296.0   \n",
       "1  0.02731   0.0   7.07     0  0.469  6.421  78.9  4.9671    2  242.0   \n",
       "2  0.02729   0.0   7.07     0  0.469  7.185  61.1  4.9671    2  242.0   \n",
       "3  0.03237   0.0   2.18     0  0.458  6.998  45.8  6.0622    3  222.0   \n",
       "4  0.06905   0.0   2.18     0  0.458  7.147  54.2  6.0622    3  222.0   \n",
       "\n",
       "   PTRATIO       B  LSTAT  MEDV  \n",
       "0     15.3  396.90   4.98  24.0  \n",
       "1     17.8  396.90   9.14  21.6  \n",
       "2     17.8  392.83   4.03  34.7  \n",
       "3     18.7  394.63   2.94  33.4  \n",
       "4     18.7  396.90   5.33  36.2  "
      ]
     },
     "execution_count": 5,
     "metadata": {},
     "output_type": "execute_result"
    }
   ],
   "source": [
    "# untuk mengetahui 5 data teratas\n",
    "dataset.head()"
   ]
  },
  {
   "cell_type": "code",
   "execution_count": 6,
   "metadata": {},
   "outputs": [
    {
     "data": {
      "text/plain": [
       "(506, 14)"
      ]
     },
     "execution_count": 6,
     "metadata": {},
     "output_type": "execute_result"
    }
   ],
   "source": [
    "# untuk mengetahui banyaknya jumlah kolom dan baris\n",
    "np.shape(dataset)"
   ]
  },
  {
   "cell_type": "code",
   "execution_count": 7,
   "metadata": {},
   "outputs": [
    {
     "data": {
      "text/plain": [
       "CRIM       float64\n",
       "ZN         float64\n",
       "INDUS      float64\n",
       "CHAS         int64\n",
       "NOX        float64\n",
       "RM         float64\n",
       "AGE        float64\n",
       "DIS        float64\n",
       "RAD          int64\n",
       "TAX        float64\n",
       "PTRATIO    float64\n",
       "B          float64\n",
       "LSTAT      float64\n",
       "MEDV       float64\n",
       "dtype: object"
      ]
     },
     "execution_count": 7,
     "metadata": {},
     "output_type": "execute_result"
    }
   ],
   "source": [
    "# untuk mengetahui tipe data\n",
    "dataset.dtypes"
   ]
  },
  {
   "cell_type": "code",
   "execution_count": 8,
   "metadata": {},
   "outputs": [
    {
     "data": {
      "text/plain": [
       "CRIM        float64\n",
       "ZN          float64\n",
       "INDUS       float64\n",
       "CHAS       category\n",
       "NOX         float64\n",
       "RM          float64\n",
       "AGE         float64\n",
       "DIS         float64\n",
       "RAD           int64\n",
       "TAX         float64\n",
       "PTRATIO     float64\n",
       "B           float64\n",
       "LSTAT       float64\n",
       "MEDV        float64\n",
       "dtype: object"
      ]
     },
     "execution_count": 8,
     "metadata": {},
     "output_type": "execute_result"
    }
   ],
   "source": [
    "# untuk mengubah data kategori pada kolom \"CHAS\"\n",
    "dataset[\"CHAS\"] = dataset[\"CHAS\"].astype('category')\n",
    "\n",
    "dataset.dtypes"
   ]
  },
  {
   "cell_type": "code",
   "execution_count": 9,
   "metadata": {},
   "outputs": [
    {
     "data": {
      "text/html": [
       "<div>\n",
       "<style scoped>\n",
       "    .dataframe tbody tr th:only-of-type {\n",
       "        vertical-align: middle;\n",
       "    }\n",
       "\n",
       "    .dataframe tbody tr th {\n",
       "        vertical-align: top;\n",
       "    }\n",
       "\n",
       "    .dataframe thead th {\n",
       "        text-align: right;\n",
       "    }\n",
       "</style>\n",
       "<table border=\"1\" class=\"dataframe\">\n",
       "  <thead>\n",
       "    <tr style=\"text-align: right;\">\n",
       "      <th></th>\n",
       "      <th>CRIM</th>\n",
       "      <th>ZN</th>\n",
       "      <th>INDUS</th>\n",
       "      <th>NOX</th>\n",
       "      <th>RM</th>\n",
       "      <th>AGE</th>\n",
       "      <th>DIS</th>\n",
       "      <th>RAD</th>\n",
       "      <th>TAX</th>\n",
       "      <th>PTRATIO</th>\n",
       "      <th>B</th>\n",
       "      <th>LSTAT</th>\n",
       "      <th>MEDV</th>\n",
       "    </tr>\n",
       "  </thead>\n",
       "  <tbody>\n",
       "    <tr>\n",
       "      <th>count</th>\n",
       "      <td>506.000000</td>\n",
       "      <td>506.000000</td>\n",
       "      <td>506.000000</td>\n",
       "      <td>506.000000</td>\n",
       "      <td>506.000000</td>\n",
       "      <td>506.000000</td>\n",
       "      <td>506.000000</td>\n",
       "      <td>506.000000</td>\n",
       "      <td>506.000000</td>\n",
       "      <td>506.000000</td>\n",
       "      <td>506.000000</td>\n",
       "      <td>506.000000</td>\n",
       "      <td>506.000000</td>\n",
       "    </tr>\n",
       "    <tr>\n",
       "      <th>mean</th>\n",
       "      <td>3.613524</td>\n",
       "      <td>11.363636</td>\n",
       "      <td>11.136779</td>\n",
       "      <td>0.554695</td>\n",
       "      <td>6.284634</td>\n",
       "      <td>68.574901</td>\n",
       "      <td>3.795043</td>\n",
       "      <td>9.549407</td>\n",
       "      <td>408.237154</td>\n",
       "      <td>18.455534</td>\n",
       "      <td>356.674032</td>\n",
       "      <td>12.653063</td>\n",
       "      <td>22.532806</td>\n",
       "    </tr>\n",
       "    <tr>\n",
       "      <th>std</th>\n",
       "      <td>8.601545</td>\n",
       "      <td>23.322453</td>\n",
       "      <td>6.860353</td>\n",
       "      <td>0.115878</td>\n",
       "      <td>0.702617</td>\n",
       "      <td>28.148861</td>\n",
       "      <td>2.105710</td>\n",
       "      <td>8.707259</td>\n",
       "      <td>168.537116</td>\n",
       "      <td>2.164946</td>\n",
       "      <td>91.294864</td>\n",
       "      <td>7.141062</td>\n",
       "      <td>9.197104</td>\n",
       "    </tr>\n",
       "    <tr>\n",
       "      <th>min</th>\n",
       "      <td>0.006320</td>\n",
       "      <td>0.000000</td>\n",
       "      <td>0.460000</td>\n",
       "      <td>0.385000</td>\n",
       "      <td>3.561000</td>\n",
       "      <td>2.900000</td>\n",
       "      <td>1.129600</td>\n",
       "      <td>1.000000</td>\n",
       "      <td>187.000000</td>\n",
       "      <td>12.600000</td>\n",
       "      <td>0.320000</td>\n",
       "      <td>1.730000</td>\n",
       "      <td>5.000000</td>\n",
       "    </tr>\n",
       "    <tr>\n",
       "      <th>25%</th>\n",
       "      <td>0.082045</td>\n",
       "      <td>0.000000</td>\n",
       "      <td>5.190000</td>\n",
       "      <td>0.449000</td>\n",
       "      <td>5.885500</td>\n",
       "      <td>45.025000</td>\n",
       "      <td>2.100175</td>\n",
       "      <td>4.000000</td>\n",
       "      <td>279.000000</td>\n",
       "      <td>17.400000</td>\n",
       "      <td>375.377500</td>\n",
       "      <td>6.950000</td>\n",
       "      <td>17.025000</td>\n",
       "    </tr>\n",
       "    <tr>\n",
       "      <th>50%</th>\n",
       "      <td>0.256510</td>\n",
       "      <td>0.000000</td>\n",
       "      <td>9.690000</td>\n",
       "      <td>0.538000</td>\n",
       "      <td>6.208500</td>\n",
       "      <td>77.500000</td>\n",
       "      <td>3.207450</td>\n",
       "      <td>5.000000</td>\n",
       "      <td>330.000000</td>\n",
       "      <td>19.050000</td>\n",
       "      <td>391.440000</td>\n",
       "      <td>11.360000</td>\n",
       "      <td>21.200000</td>\n",
       "    </tr>\n",
       "    <tr>\n",
       "      <th>75%</th>\n",
       "      <td>3.677082</td>\n",
       "      <td>12.500000</td>\n",
       "      <td>18.100000</td>\n",
       "      <td>0.624000</td>\n",
       "      <td>6.623500</td>\n",
       "      <td>94.075000</td>\n",
       "      <td>5.188425</td>\n",
       "      <td>24.000000</td>\n",
       "      <td>666.000000</td>\n",
       "      <td>20.200000</td>\n",
       "      <td>396.225000</td>\n",
       "      <td>16.955000</td>\n",
       "      <td>25.000000</td>\n",
       "    </tr>\n",
       "    <tr>\n",
       "      <th>max</th>\n",
       "      <td>88.976200</td>\n",
       "      <td>100.000000</td>\n",
       "      <td>27.740000</td>\n",
       "      <td>0.871000</td>\n",
       "      <td>8.780000</td>\n",
       "      <td>100.000000</td>\n",
       "      <td>12.126500</td>\n",
       "      <td>24.000000</td>\n",
       "      <td>711.000000</td>\n",
       "      <td>22.000000</td>\n",
       "      <td>396.900000</td>\n",
       "      <td>37.970000</td>\n",
       "      <td>50.000000</td>\n",
       "    </tr>\n",
       "  </tbody>\n",
       "</table>\n",
       "</div>"
      ],
      "text/plain": [
       "             CRIM          ZN       INDUS         NOX          RM         AGE  \\\n",
       "count  506.000000  506.000000  506.000000  506.000000  506.000000  506.000000   \n",
       "mean     3.613524   11.363636   11.136779    0.554695    6.284634   68.574901   \n",
       "std      8.601545   23.322453    6.860353    0.115878    0.702617   28.148861   \n",
       "min      0.006320    0.000000    0.460000    0.385000    3.561000    2.900000   \n",
       "25%      0.082045    0.000000    5.190000    0.449000    5.885500   45.025000   \n",
       "50%      0.256510    0.000000    9.690000    0.538000    6.208500   77.500000   \n",
       "75%      3.677082   12.500000   18.100000    0.624000    6.623500   94.075000   \n",
       "max     88.976200  100.000000   27.740000    0.871000    8.780000  100.000000   \n",
       "\n",
       "              DIS         RAD         TAX     PTRATIO           B       LSTAT  \\\n",
       "count  506.000000  506.000000  506.000000  506.000000  506.000000  506.000000   \n",
       "mean     3.795043    9.549407  408.237154   18.455534  356.674032   12.653063   \n",
       "std      2.105710    8.707259  168.537116    2.164946   91.294864    7.141062   \n",
       "min      1.129600    1.000000  187.000000   12.600000    0.320000    1.730000   \n",
       "25%      2.100175    4.000000  279.000000   17.400000  375.377500    6.950000   \n",
       "50%      3.207450    5.000000  330.000000   19.050000  391.440000   11.360000   \n",
       "75%      5.188425   24.000000  666.000000   20.200000  396.225000   16.955000   \n",
       "max     12.126500   24.000000  711.000000   22.000000  396.900000   37.970000   \n",
       "\n",
       "             MEDV  \n",
       "count  506.000000  \n",
       "mean    22.532806  \n",
       "std      9.197104  \n",
       "min      5.000000  \n",
       "25%     17.025000  \n",
       "50%     21.200000  \n",
       "75%     25.000000  \n",
       "max     50.000000  "
      ]
     },
     "execution_count": 9,
     "metadata": {},
     "output_type": "execute_result"
    }
   ],
   "source": [
    "# mengetahui perhitungan statistik seperti informasi jumlah data (count), rata-rata (mean), standar deviasi (std), nilai minimum (min), kuartil (25%, 50%, dan 75%), dan nilai maksimum (max) dari setiap kolom pada DataFrame atau Series.\n",
    "dataset.describe()"
   ]
  },
  {
   "cell_type": "code",
   "execution_count": 10,
   "metadata": {},
   "outputs": [
    {
     "data": {
      "text/plain": [
       "0    471\n",
       "1     35\n",
       "Name: CHAS, dtype: int64"
      ]
     },
     "execution_count": 10,
     "metadata": {},
     "output_type": "execute_result"
    }
   ],
   "source": [
    "# menghitung jumlah kemunculan setiap nilai unik pada kolom 'CHAS' \n",
    "dataset['CHAS'].value_counts()"
   ]
  },
  {
   "cell_type": "code",
   "execution_count": 11,
   "metadata": {},
   "outputs": [
    {
     "data": {
      "text/plain": [
       "CRIM       False\n",
       "ZN         False\n",
       "INDUS      False\n",
       "CHAS       False\n",
       "NOX        False\n",
       "RM         False\n",
       "AGE        False\n",
       "DIS        False\n",
       "RAD        False\n",
       "TAX        False\n",
       "PTRATIO    False\n",
       "B          False\n",
       "LSTAT      False\n",
       "MEDV       False\n",
       "dtype: bool"
      ]
     },
     "execution_count": 11,
     "metadata": {},
     "output_type": "execute_result"
    }
   ],
   "source": [
    "# memeriksa apa ada data yang missing value\n",
    "dataset.isnull().any()\n",
    "\n",
    "# berdasarkan hasil dibawah ini, menunjukkan bahwa tidak ada data yang missing value pada setiap kolom"
   ]
  },
  {
   "cell_type": "code",
   "execution_count": 12,
   "metadata": {},
   "outputs": [],
   "source": [
    "# Melakukan transformasi min-max scaling pada data\n",
    "from sklearn import preprocessing\n",
    "transformasi_min_max = preprocessing.MinMaxScaler()"
   ]
  },
  {
   "cell_type": "markdown",
   "metadata": {},
   "source": [
    "***Melakukan pemodelan data dengan regresi*** "
   ]
  },
  {
   "cell_type": "code",
   "execution_count": 13,
   "metadata": {},
   "outputs": [],
   "source": [
    "# Variabel target diisi dengan nama kolom yang akan dijadikan target variabel dalam analisis, yaitu 'MEDV'.\n",
    "target = 'MEDV'\n",
    "x = dataset.drop('MEDV', axis =1) # metode .drop() pada DataFrame dataset dan menghapus kolom 'MEDV'\n",
    "y = dataset[target]\n",
    "varx = ['CRIM', 'ZN', 'INDUS', 'CHAS', 'NOX', 'RM', 'AGE', 'DIS', 'RAD', 'TAX', 'PTRATIO', 'B', 'LSTAT']\n",
    "x = pd.DataFrame(data = transformasi_min_max.fit_transform(x), columns = varx)"
   ]
  },
  {
   "cell_type": "code",
   "execution_count": 14,
   "metadata": {},
   "outputs": [],
   "source": [
    "# train_test_split() digunakan untuk membagi data menjadi dua bagian yaitu data latih (train set) dan data uji (test set) dalam proporsi tertentu.\n",
    "# dilakukan pembagian data dengan proporsi 70:30 (70% untuk data testing) menggunakan fungsi train_test_split(). \n",
    "\n",
    "from sklearn.model_selection import train_test_split\n",
    "x_train, x_test, y_train, y_test = train_test_split(x, y, test_size = 0.70, random_state = 1)"
   ]
  },
  {
   "cell_type": "code",
   "execution_count": 15,
   "metadata": {},
   "outputs": [
    {
     "data": {
      "text/plain": [
       "LinearRegression()"
      ]
     },
     "execution_count": 15,
     "metadata": {},
     "output_type": "execute_result"
    }
   ],
   "source": [
    "# dilakukan pemodelan data dengan metode regresi linear\n",
    "from sklearn.linear_model import LinearRegression\n",
    "from sklearn.metrics import mean_squared_error, r2_score\n",
    "\n",
    "linear_model = LinearRegression()\n",
    "linear_model.fit(x_train, y_train)"
   ]
  },
  {
   "cell_type": "code",
   "execution_count": 16,
   "metadata": {},
   "outputs": [],
   "source": [
    "# dilakukan transformasi data polinomial \n",
    "from sklearn.preprocessing import PolynomialFeatures\n",
    "polynomial_features = PolynomialFeatures(degree = 2)\n",
    "x_poly = polynomial_features.fit_transform(x_train)\n",
    "poly_model = LinearRegression()\n",
    "poly_model.fit(x_poly, y_train)\n",
    "x_poly_test = polynomial_features.fit_transform(x_test)"
   ]
  },
  {
   "cell_type": "code",
   "execution_count": 17,
   "metadata": {},
   "outputs": [
    {
     "data": {
      "text/plain": [
       "Ridge(alpha=1)"
      ]
     },
     "execution_count": 17,
     "metadata": {},
     "output_type": "execute_result"
    }
   ],
   "source": [
    "#Pemodelan dengan Regresi Ridge dengan nilai alpha 1\n",
    "\n",
    "from sklearn.linear_model import Ridge\n",
    "\n",
    "model_ridge = Ridge(alpha = 1)\n",
    "model_ridge.fit(x_train, y_train)"
   ]
  },
  {
   "cell_type": "code",
   "execution_count": 18,
   "metadata": {},
   "outputs": [
    {
     "data": {
      "text/plain": [
       "Lasso(alpha=1)"
      ]
     },
     "execution_count": 18,
     "metadata": {},
     "output_type": "execute_result"
    }
   ],
   "source": [
    "#Pemodelan dengan Regresi Lasso dengan nilai alpha 1\n",
    "\n",
    "from sklearn.linear_model import Lasso\n",
    "\n",
    "model_lasso = Lasso(alpha = 1)\n",
    "model_lasso.fit(x_train, y_train)"
   ]
  },
  {
   "cell_type": "markdown",
   "metadata": {},
   "source": [
    "### *Melakukan Evaluasi Data Testing dan Training dengan  Regresi*"
   ]
  },
  {
   "cell_type": "markdown",
   "metadata": {},
   "source": [
    "***Melakukan Evaluasi Data Testing dan Testing dengan Model Regresi Linear***"
   ]
  },
  {
   "cell_type": "code",
   "execution_count": 19,
   "metadata": {},
   "outputs": [
    {
     "name": "stdout",
     "output_type": "stream",
     "text": [
      "====================================\n",
      "Performa Model Data Training yaitu :\n",
      "--------------------------------------\n",
      "NILAI RMSE -> 4.980768789994864\n",
      "NILAI R2 -> 0.7254441891569579\n"
     ]
    }
   ],
   "source": [
    "# untuk mengetahui nilai RMSE dan Rsquare(R2) pada data training dalam metode regresi linear\n",
    "pred_y_train = linear_model.predict(x_train)\n",
    "rmse = (np.sqrt(mean_squared_error(y_train, pred_y_train)))\n",
    "r2 = r2_score(y_train, pred_y_train)\n",
    "\n",
    "print(\"====================================\")\n",
    "print(\"Performa Model Data Training yaitu :\")\n",
    "print(\"--------------------------------------\")\n",
    "print(\"NILAI RMSE -> {}\".format(rmse))\n",
    "print(\"NILAI R2 -> {}\".format(r2))"
   ]
  },
  {
   "cell_type": "code",
   "execution_count": 20,
   "metadata": {},
   "outputs": [
    {
     "name": "stdout",
     "output_type": "stream",
     "text": [
      "===================================\n",
      "Performa Model Data Testing yaitu :\n",
      "--------------------------------------\n",
      "NILAI RMSE -> 4.877665892510709\n",
      "NILAI R2 -> 0.7094540602303248\n"
     ]
    }
   ],
   "source": [
    "# untuk mengetahui nilai RMSE dan Rsquare(R2) pada data testing dalam metode regresi linear\n",
    "pred_y_test = linear_model.predict(x_test)\n",
    "rmse_2 = (np.sqrt(mean_squared_error(y_test, pred_y_test)))\n",
    "r2_2 = r2_score(y_test, pred_y_test)\n",
    "\n",
    "print(\"===================================\")\n",
    "print(\"Performa Model Data Testing yaitu :\")\n",
    "print(\"--------------------------------------\")\n",
    "print(\"NILAI RMSE -> {}\".format(rmse_2))\n",
    "print(\"NILAI R2 -> {}\".format(r2_2))"
   ]
  },
  {
   "cell_type": "markdown",
   "metadata": {},
   "source": [
    "***Melakukan Evaluasi Data Testing dan Training dengan Model Regresi Polinomial***"
   ]
  },
  {
   "cell_type": "code",
   "execution_count": 21,
   "metadata": {},
   "outputs": [
    {
     "name": "stdout",
     "output_type": "stream",
     "text": [
      "===================================\n",
      "Performa Model Polinomial Derajat Dua Data Training yaitu :\n",
      "--------------------------------------\n",
      "NILAI RMSE -> 4.877665892510709\n",
      "NILAI R2 -> 0.7094540602303248\n"
     ]
    }
   ],
   "source": [
    "# untuk mengetahui nilai RMSE dan Rsquare(R2) pada data training dalam metode regresi polinomial\n",
    "pred_y_train_poly = poly_model.predict(x_poly)\n",
    "rmse = (np.sqrt(mean_squared_error(y_train, pred_y_train_poly)))\n",
    "r2 = r2_score(y_train, pred_y_train_poly)\n",
    "\n",
    "print(\"===================================\")\n",
    "print(\"Performa Model Polinomial Derajat Dua Data Training yaitu :\")\n",
    "print(\"--------------------------------------\")\n",
    "print(\"NILAI RMSE -> {}\".format(rmse_2))\n",
    "print(\"NILAI R2 -> {}\".format(r2_2))"
   ]
  },
  {
   "cell_type": "code",
   "execution_count": 22,
   "metadata": {},
   "outputs": [
    {
     "name": "stdout",
     "output_type": "stream",
     "text": [
      "===================================\n",
      "Performa Model Polinomial Derajat Dua Data Testing yaitu :\n",
      "--------------------------------------\n",
      "NILAI RMSE -> 12.417733962960714\n",
      "NILAI R2 -> -0.8831088112505843\n"
     ]
    }
   ],
   "source": [
    "# untuk mengetahui nilai RMSE dan Rsquare(R2) pada data testing dalam metode regresi polinomial\n",
    "pred_y_test_poly = poly_model.predict(x_poly_test)\n",
    "rmse_2 = (np.sqrt(mean_squared_error(y_test, pred_y_test_poly)))\n",
    "r2_2 = r2_score(y_test, pred_y_test_poly)\n",
    "\n",
    "print(\"===================================\")\n",
    "print(\"Performa Model Polinomial Derajat Dua Data Testing yaitu :\")\n",
    "print(\"--------------------------------------\")\n",
    "print(\"NILAI RMSE -> {}\".format(rmse_2))\n",
    "print(\"NILAI R2 -> {}\".format(r2_2))"
   ]
  },
  {
   "cell_type": "markdown",
   "metadata": {},
   "source": [
    "***Melakukan Evaluasi Data Testing dan Training dengan Model Regresi Ridge***"
   ]
  },
  {
   "cell_type": "code",
   "execution_count": 23,
   "metadata": {},
   "outputs": [
    {
     "name": "stdout",
     "output_type": "stream",
     "text": [
      "===================================\n",
      "Performa Model Ridge Data Training yaitu :\n",
      "--------------------------------------\n",
      "NILAI RMSE -> 12.417733962960714\n",
      "NILAI R2 -> -0.8831088112505843\n"
     ]
    }
   ],
   "source": [
    "# untuk mengetahui nilai RMSE dan Rsquare(R2) pada data training dalam metode regresi ridge\n",
    "pred_y_train_ridge = model_ridge.predict(x_train)\n",
    "rmse = (np.sqrt(mean_squared_error(y_train, pred_y_train_ridge)))\n",
    "r2 = r2_score(y_train, pred_y_train_ridge)\n",
    "\n",
    "print(\"===================================\")\n",
    "print(\"Performa Model Ridge Data Training yaitu :\")\n",
    "print(\"--------------------------------------\")\n",
    "print(\"NILAI RMSE -> {}\".format(rmse_2))\n",
    "print(\"NILAI R2 -> {}\".format(r2_2))"
   ]
  },
  {
   "cell_type": "code",
   "execution_count": 24,
   "metadata": {},
   "outputs": [
    {
     "name": "stdout",
     "output_type": "stream",
     "text": [
      "===================================\n",
      "Performa Model Ridge Data Testing yaitu :\n",
      "--------------------------------------\n",
      "NILAI RMSE -> 4.7808135250163595\n",
      "NILAI R2 -> 0.7208778371246569\n"
     ]
    }
   ],
   "source": [
    "# untuk mengetahui nilai RMSE dan Rsquare(R2) pada data testing dalam metode regresi ridge\n",
    "pred_y_test_ridge = model_ridge.predict(x_test)\n",
    "rmse_2 = (np.sqrt(mean_squared_error(y_test, pred_y_test_ridge)))\n",
    "r2_2 = r2_score(y_test, pred_y_test_ridge)\n",
    "\n",
    "print(\"===================================\")\n",
    "print(\"Performa Model Ridge Data Testing yaitu :\")\n",
    "print(\"--------------------------------------\")\n",
    "print(\"NILAI RMSE -> {}\".format(rmse_2))\n",
    "print(\"NILAI R2 -> {}\".format(r2_2))"
   ]
  },
  {
   "cell_type": "markdown",
   "metadata": {},
   "source": [
    "***Melakukan Evaluasi Data Testing dan Training dengan Model Regresi Lasso***"
   ]
  },
  {
   "cell_type": "code",
   "execution_count": 25,
   "metadata": {},
   "outputs": [
    {
     "name": "stdout",
     "output_type": "stream",
     "text": [
      "===================================\n",
      "Performa Model Lasso Data Training yaitu :\n",
      "--------------------------------------\n",
      "NILAI RMSE -> 4.7808135250163595\n",
      "NILAI R2 -> 0.7208778371246569\n"
     ]
    }
   ],
   "source": [
    "# untuk mengetahui nilai RMSE dan Rsquare(R2) pada data training dalam metode regresi lasso\n",
    "pred_y_train_lasso = model_lasso.predict(x_train)\n",
    "rmse = (np.sqrt(mean_squared_error(y_train, pred_y_train_lasso)))\n",
    "r2 = r2_score(y_train, pred_y_train_lasso)\n",
    "\n",
    "print(\"===================================\")\n",
    "print(\"Performa Model Lasso Data Training yaitu :\")\n",
    "print(\"--------------------------------------\")\n",
    "print(\"NILAI RMSE -> {}\".format(rmse_2))\n",
    "print(\"NILAI R2 -> {}\".format(r2_2))"
   ]
  },
  {
   "cell_type": "code",
   "execution_count": 26,
   "metadata": {},
   "outputs": [
    {
     "name": "stdout",
     "output_type": "stream",
     "text": [
      "===================================\n",
      "Performa Model Lasso Data Testing yaitu :\n",
      "--------------------------------------\n",
      "NILAI RMSE -> 7.707774930476879\n",
      "NILAI R2 -> 0.27448104703573784\n"
     ]
    }
   ],
   "source": [
    "# untuk mengetahui nilai RMSE dan Rsquare(R2) pada data testing dalam metode regresi lasso\n",
    "pred_y_test_lasso = model_lasso.predict(x_test)\n",
    "rmse_2 = (np.sqrt(mean_squared_error(y_test, pred_y_test_lasso)))\n",
    "r2_2 = r2_score(y_test, pred_y_test_lasso)\n",
    "\n",
    "print(\"===================================\")\n",
    "print(\"Performa Model Lasso Data Testing yaitu :\")\n",
    "print(\"--------------------------------------\")\n",
    "print(\"NILAI RMSE -> {}\".format(rmse_2))\n",
    "print(\"NILAI R2 -> {}\".format(r2_2))"
   ]
  },
  {
   "cell_type": "markdown",
   "metadata": {},
   "source": [
    " ***Dalam evaluasi kualitas model regresi, R-square dan RMSE adalah metrik umum yang digunakan. R-square mengukur proporsi variabilitas dalam data yang dapat dijelaskan oleh model regresi, sementara RMSE mengukur kesalahan prediksi model dalam satuan yang sama dengan data yang diamati. Model regresi yang baik memberikan nilai R-square yang tinggi dan nilai RMSE yang rendah. Dalam kasus tertentu, Model Polynomial dipilih sebagai model terbaik karena memiliki nilai R-Square dan RMSE yang baik, namun pemilihan model terbaik tidak hanya bergantung pada R-square dan RMSE saja tetapi juga harus mempertimbangkan faktor lain seperti akurasi, kecepatan, dan kompleksitas model.***\n",
    " \n",
    "***Berdasarkan ke empat metode untuk mendapatkan nilai RMSE dan Rsquare(R2) didapatkan hasil dengan metode terbaik yaitu pada metode \"Model Regresi Ridge\" dengan nilai RMSE paling rendah dan nilai Rsquare(R2) paling tinggi yaitu \"4.7808135250163595\"\n",
    "dan \"0.7208778371246569\" dibandingkan dengan hasil metode yang lainnya***"
   ]
  },
  {
   "cell_type": "code",
   "execution_count": null,
   "metadata": {},
   "outputs": [],
   "source": []
  }
 ],
 "metadata": {
  "kernelspec": {
   "display_name": "Python 3",
   "language": "python",
   "name": "python3"
  },
  "language_info": {
   "codemirror_mode": {
    "name": "ipython",
    "version": 3
   },
   "file_extension": ".py",
   "mimetype": "text/x-python",
   "name": "python",
   "nbconvert_exporter": "python",
   "pygments_lexer": "ipython3",
   "version": "3.8.5"
  }
 },
 "nbformat": 4,
 "nbformat_minor": 4
}
